{
 "cells": [
  {
   "cell_type": "markdown",
   "metadata": {},
   "source": [
    "# Draw accuracy plot with standard deviation"
   ]
  },
  {
   "cell_type": "code",
   "execution_count": null,
   "metadata": {},
   "outputs": [],
   "source": [
    "# values = [0.8256, 0.8117, 0.7772, 0.7267, 0.7128, 0.7128, 0.7128, 0.7356, 0.6183, 0.6111, 0.4, 0.3333, 0.2222]\n",
    "# stds = [0.0125, 0.0115, 0.013, 0.0151, 0.0181, 0.0181, 0.0181, 0.0139, 0.0155, 0, 0, 0, 0]"
   ]
  },
  {
   "cell_type": "code",
   "execution_count": 3,
   "metadata": {},
   "outputs": [
    {
     "data": {
      "image/png": "[encoded data removed]",
      "text/plain": [
       "<Figure size 600x400 with 1 Axes>"
      ]
     },
     "metadata": {},
     "output_type": "display_data"
    }
   ],
   "source": [
    "import matplotlib.pyplot as plt\n",
    "from matplotlib.font_manager import FontProperties\n",
    "\n",
    "# Font setup\n",
    "font_path = \"ARIAL.TTF\"  # Update the path to your font file\n",
    "font_prop = FontProperties(fname=font_path, size=15)\n",
    "\n",
    "# Data\n",
    "values = [0.8256, 0.8117, 0.7772, 0.7267, 0.7128, 0.7128, 0.7128, 0.7356, 0.6183, 0.6111, 0.4, 0.3333, 0.2222]\n",
    "stds = [0.0125, 0.0115, 0.013, 0.0151, 0.0143, 0.0143, 0.0143, 0.0139, 0.0155, 0, 0, 0, 0]\n",
    "indices = [i * 1.5 for i in range(len(values))]  # Spaced indices for the bars\n",
    "\n",
    "plt.figure(figsize=(6, 4))\n",
    "\n",
    "# Create the horizontal bar plot\n",
    "plt.barh(indices, values, color='#3490de', edgecolor='#3490de', linewidth=3)\n",
    "\n",
    "# Add error bars as dashed lines\n",
    "for i, (y, value, std) in enumerate(zip(indices, values, stds)):\n",
    "    if std > 0:  # Add error bars only if std > 0\n",
    "        plt.errorbar(\n",
    "            x=[value - std, value + std],  # Range of the error bar\n",
    "            y=[y, y],  # Fixed y-coordinate for horizontal error bar\n",
    "            color='black',  # Color of the error bar\n",
    "            linestyle=(0, (5, 0.5)),  # Dash pattern (5-pixel dash, 5-pixel space)\n",
    "            linewidth=1,  # Line width of the dashed line\n",
    "            capsize=0  # No caps on the ends of the error bar\n",
    "        )\n",
    "\n",
    "# Hide y-axis ticks and labels\n",
    "plt.gca().set_yticks([])  # Remove y-axis ticks\n",
    "plt.gca().set_yticklabels([])  # Remove y-axis tick labels\n",
    "\n",
    "# Remove the right and top spines\n",
    "ax = plt.gca()  # Get the current Axes\n",
    "ax.spines['right'].set_visible(False)\n",
    "ax.spines['top'].set_visible(False)\n",
    "\n",
    "# Customize tick labels\n",
    "plt.xticks(fontsize=14, color='black', fontproperties=font_prop)\n",
    "plt.yticks(fontsize=14, color='black', fontproperties=font_prop)\n",
    "\n",
    "# plt.show()\n",
    "# Save the plot\n",
    "plt.savefig('Figures/accuracies_with_errorbars.png', dpi=800)"
   ]
  },
  {
   "cell_type": "code",
   "execution_count": null,
   "metadata": {},
   "outputs": [],
   "source": []
  },
  {
   "cell_type": "code",
   "execution_count": null,
   "metadata": {},
   "outputs": [],
   "source": []
  }
 ],
 "metadata": {
  "kernelspec": {
   "display_name": "GPT",
   "language": "python",
   "name": "python3"
  },
  "language_info": {
   "codemirror_mode": {
    "name": "ipython",
    "version": 3
   },
   "file_extension": ".py",
   "mimetype": "text/x-python",
   "name": "python",
   "nbconvert_exporter": "python",
   "pygments_lexer": "ipython3",
   "version": "3.12.0"
  }
 },
 "nbformat": 4,
 "nbformat_minor": 2
}
