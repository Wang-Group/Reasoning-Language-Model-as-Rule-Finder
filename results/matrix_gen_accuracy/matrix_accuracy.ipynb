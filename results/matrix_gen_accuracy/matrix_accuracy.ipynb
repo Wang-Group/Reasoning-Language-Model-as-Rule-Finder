{
 "cells": [
  {
   "cell_type": "code",
   "execution_count": 1,
   "metadata": {},
   "outputs": [],
   "source": [
    "import pandas as pd\n",
    "\n",
    "code_matrix = pd.read_csv('coded_matrix.csv')\n",
    "linguistic_matrix = pd.read_csv('linguistic_matrix.csv')"
   ]
  },
  {
   "cell_type": "code",
   "execution_count": 2,
   "metadata": {},
   "outputs": [],
   "source": [
    "rule1 = [ 0,-1, 0, 0,-1, 0, 0, 0, 0, 0, 1, 0, 1, 0, 0, 0, 0, 1, 0, 0, 1, 1, 0, -1, 0, 0, 0, 0, 0, 0, 0, 0, 0, 0, 0, 0]\n",
    "rule2 = [ 0,-1, 0, 0,  1, 0, 0, 0, 0, 0, 1, 0, 1, 0, 0, 0, 0, 1, 0, 0, 1, 1, 0, -1, 0, 0, 0, 0, 0, 0, 0, 0, 0, 0, 0, 0 ]\n",
    "rule3 = [ 0,-1, 0, 0,-1, 0, 0, 0, 0, 0, 1, 0, 1, 0, 0, 0, 0, 1, 0, 0,-1, 1, 0, -1, 0, 0, 0, 0, 0, 0, 0, 0, 0, 0, 0, 0]\n",
    "rule4 = [0,  0, 0, 0,  0, 0, 0, 0, 0, 0,-1, 0, 0, 0, 0, 0, 0, 0, 0, 0,  0, 0, 0,  0, 0, 0, 0, 0, 0, 0, 0, 0, 0, 0, 0 ,0]\n",
    "rule5 = [0,  0, 0, 0,  0,  0, 0, 0, 0, 0, 0,-1, 0, 0,-1,0, 0, 0, 0, 0, 0, 0, 0, 0, -1,0, 0, 0, 0, 0,-1, 0,-1,-1,-1,-1]\n",
    "rule6 = [0,  0, 0, 0,  0, 0, 0, 0, 0, 0, 0, 0, 0, 0, 0, 0, 0, 0, 0, 0,  0, 0, 0,  0,-1, 0, 0,-1, 0,-1,0, 0, 0, 0, -1 ,0]\n",
    "rule7 = [0,  0, 0, 0,  0, 0, 0, 0, 0, 0,-1, 0, 0, 0, 0, 0, 0, 0, 1, 0,  0, 0, 0,  0, 1, 0, 0, 0, 0, 0, 0, 0, 0, 0, 0 ,0]\n",
    "rule8 = [0,  0, 0, 0,  1, 0, 0, 0, 0, 0, 0, 0, 0, 0, 0, 0, 0, 0, 0, 0,  0, 0, 0,  0, 0, 0, 0, 0, 0, 0, 0, 0, 0, 0, 0 ,0]\n",
    "rule9 = [0,  0, 0, 0,  0, 0, 0, 0, 0, 0,-1, 0, 0, 0, 0, 0, 0, 0,-1, 0, 0, 0, 0,  0,-1,0, 0, 0, 0, 0, 0, 0, 0, 0, 0 ,0]\n",
    "rule10 = [0,  0, 0, 0,  0, 0, 0, 0, 0, 0, 0, 0,-1, 0, 0, 0, 0, 0, 0, 0,  0, 0, 0,  0, 0, 0, 0, 0, 0, 0, 0, 0, 0, 0, 0 ,0]\n",
    "data = {\n",
    "    \"Rule 1\": rule1,\n",
    "    \"Rule 2\": rule2,\n",
    "    \"Rule 3\": rule3,\n",
    "    \"Rule 4\": rule4,\n",
    "    \"Rule 5\": rule5,\n",
    "    \"Rule 6\": rule6,\n",
    "    \"Rule 7\": rule7,\n",
    "    \"Rule 8\": rule8,\n",
    "    \"Rule 9\": rule9,\n",
    "    \"Rule 10\": rule10,\n",
    "}\n",
    "\n",
    "# Convert the dictionary into a DataFrame\n",
    "human_matrix = pd.DataFrame(data)"
   ]
  },
  {
   "cell_type": "code",
   "execution_count": 4,
   "metadata": {},
   "outputs": [
    {
     "name": "stdout",
     "output_type": "stream",
     "text": [
      "Accuracy between human_matrix and code_matrix: 0.8972\n",
      "Accuracy between human_matrix and linguistic_matrix: 0.5639\n"
     ]
    }
   ],
   "source": [
    "import pandas as pd\n",
    "import numpy as np\n",
    "\n",
    "# Load the matrices\n",
    "code_matrix = pd.read_csv('coded_matrix.csv')\n",
    "linguistic_matrix = pd.read_csv('linguistic_matrix.csv')\n",
    "\n",
    "# Assuming human_matrix is already defined (from the previous step)\n",
    "# human_matrix = ...\n",
    "\n",
    "# Function to calculate accuracy\n",
    "def calculate_accuracy(matrix1, matrix2):\n",
    "    # Convert DataFrames to NumPy arrays (ignore column names and indices)\n",
    "    array1 = matrix1.to_numpy()\n",
    "    array2 = matrix2.to_numpy()\n",
    "    \n",
    "    # Ensure the arrays have the same shape\n",
    "    if array1.shape != array2.shape:\n",
    "        raise ValueError(\"Matrices must have the same shape\")\n",
    "    \n",
    "    # Count the number of matching positions\n",
    "    matches = (array1 == array2).sum()\n",
    "    \n",
    "    # Calculate total number of cells\n",
    "    total_cells = array1.size\n",
    "    \n",
    "    # Calculate accuracy\n",
    "    accuracy = matches / total_cells\n",
    "    return accuracy\n",
    "\n",
    "# Calculate accuracy between human_matrix and code_matrix\n",
    "accuracy_code = calculate_accuracy(human_matrix, code_matrix)\n",
    "\n",
    "# Calculate accuracy between human_matrix and linguistic_matrix\n",
    "accuracy_linguistic = calculate_accuracy(human_matrix, linguistic_matrix)\n",
    "\n",
    "# Print the results\n",
    "print(f\"Accuracy between human_matrix and code_matrix: {accuracy_code:.4f}\")\n",
    "print(f\"Accuracy between human_matrix and linguistic_matrix: {accuracy_linguistic:.4f}\")"
   ]
  },
  {
   "cell_type": "code",
   "execution_count": null,
   "metadata": {},
   "outputs": [],
   "source": []
  }
 ],
 "metadata": {
  "kernelspec": {
   "display_name": "GPT",
   "language": "python",
   "name": "python3"
  },
  "language_info": {
   "codemirror_mode": {
    "name": "ipython",
    "version": 3
   },
   "file_extension": ".py",
   "mimetype": "text/x-python",
   "name": "python",
   "nbconvert_exporter": "python",
   "pygments_lexer": "ipython3",
   "version": "3.12.0"
  }
 },
 "nbformat": 4,
 "nbformat_minor": 2
}
